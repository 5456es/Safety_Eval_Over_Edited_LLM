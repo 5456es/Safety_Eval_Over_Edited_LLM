{
 "cells": [
  {
   "cell_type": "code",
   "execution_count": null,
   "metadata": {},
   "outputs": [],
   "source": [
    "import json\n",
    "with open(\"merged_data.json\") as fh:\n",
    "    data=json.load(fh)\n",
    "\n",
    "for i in data:\n",
    "    if i[\"ground_truth\"]==i['target_new']:\n",
    "        print(i[\"ground_truth\"],i['target_new'])"
   ]
  }
 ],
 "metadata": {
  "language_info": {
   "name": "python"
  }
 },
 "nbformat": 4,
 "nbformat_minor": 2
}
