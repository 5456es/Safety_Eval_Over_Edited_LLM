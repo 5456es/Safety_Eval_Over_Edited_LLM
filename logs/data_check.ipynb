{
 "cells": [
  {
   "cell_type": "code",
   "execution_count": null,
   "metadata": {},
   "outputs": [],
   "source": [
    "import json\n",
    "import os"
   ]
  },
  {
   "cell_type": "code",
   "execution_count": 9,
   "metadata": {},
   "outputs": [
    {
     "name": "stdout",
     "output_type": "stream",
     "text": [
      "0.9837386395326987\n",
      "0.9776971798706383\n"
     ]
    }
   ],
   "source": [
    "## llama2-7b-hf-chat\n",
    "\n",
    "#### ROME\n",
    "id_path='./ROME/llama2-7b-hf-chat/ZsRE_1'\n",
    "post_rewrite_acc=[]\n",
    "for id_dir in os.listdir(id_path):\n",
    "    if '_' in id_dir:\n",
    "        continue\n",
    "    summary_path=os.path.join(id_path,id_dir,'logs/metric_summary.json')\n",
    "    with open(summary_path,'r') as f:\n",
    "        data=json.load(f)\n",
    "    post_sr=data['post']['rewrite_acc'] \n",
    "    post_rewrite_acc.append(post_sr)\n",
    "print(sum(post_rewrite_acc)/len(post_rewrite_acc))\n",
    "\n",
    "### MEMIT\n",
    "id_path='./MEMIT/llama2-7b-hf-chat/ZsRE_1'\n",
    "post_rewrite_acc=[]\n",
    "for id_dir in os.listdir(id_path):\n",
    "    if '_' in id_dir:\n",
    "        continue\n",
    "    summary_path=os.path.join(id_path,id_dir,'logs/metric_summary.json')\n",
    "    with open(summary_path,'r') as f:\n",
    "        data=json.load(f)\n",
    "    post_sr=data['post']['rewrite_acc'] \n",
    "    post_rewrite_acc.append(post_sr)\n",
    "print(sum(post_rewrite_acc)/len(post_rewrite_acc))\n"
   ]
  }
 ],
 "metadata": {
  "kernelspec": {
   "display_name": "EditHurt",
   "language": "python",
   "name": "python3"
  },
  "language_info": {
   "codemirror_mode": {
    "name": "ipython",
    "version": 3
   },
   "file_extension": ".py",
   "mimetype": "text/x-python",
   "name": "python",
   "nbconvert_exporter": "python",
   "pygments_lexer": "ipython3",
   "version": "3.9.7"
  }
 },
 "nbformat": 4,
 "nbformat_minor": 2
}
